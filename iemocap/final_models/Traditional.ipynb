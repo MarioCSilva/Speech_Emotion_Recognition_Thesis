{
 "cells": [
  {
   "cell_type": "code",
   "execution_count": 2,
   "metadata": {},
   "outputs": [],
   "source": [
    "%%capture\n",
    "import sys\n",
    "import os\n",
    "# go to upper diretory\n",
    "sys.path.append(os.path.abspath('./../../../'))\n",
    "import matplotlib.pyplot as plt\n",
    "import pandas as pd\n",
    "from xgboost import XGBClassifier\n",
    "\n",
    "AUDIO_DIR = f\"{os.path.abspath('./../../../')}/IEMOCAP_Dataset\"\n",
    "EXTRACTED_FEATURES_FILE = f\"{os.path.abspath('./../../../')}/Audio_Sentiment_Analysis/iemocap/data/preprocessed_extracted_features_iemocap.csv\"\n",
    "from joblib import dump\n",
    "\n",
    "plt.rcParams['figure.dpi'] = 300"
   ]
  },
  {
   "cell_type": "code",
   "execution_count": 3,
   "metadata": {},
   "outputs": [
    {
     "name": "stdout",
     "output_type": "stream",
     "text": [
      "Number of Audio Files: 5531\n"
     ]
    },
    {
     "data": {
      "text/html": [
       "<div>\n",
       "<style scoped>\n",
       "    .dataframe tbody tr th:only-of-type {\n",
       "        vertical-align: middle;\n",
       "    }\n",
       "\n",
       "    .dataframe tbody tr th {\n",
       "        vertical-align: top;\n",
       "    }\n",
       "\n",
       "    .dataframe thead tr th {\n",
       "        text-align: left;\n",
       "    }\n",
       "\n",
       "    .dataframe thead tr:last-of-type th {\n",
       "        text-align: right;\n",
       "    }\n",
       "</style>\n",
       "<table border=\"1\" class=\"dataframe\">\n",
       "  <thead>\n",
       "    <tr>\n",
       "      <th></th>\n",
       "      <th></th>\n",
       "      <th>Emotion</th>\n",
       "    </tr>\n",
       "    <tr>\n",
       "      <th></th>\n",
       "      <th></th>\n",
       "      <th>count</th>\n",
       "    </tr>\n",
       "    <tr>\n",
       "      <th>Emotion</th>\n",
       "      <th>Emotion_Id</th>\n",
       "      <th></th>\n",
       "    </tr>\n",
       "  </thead>\n",
       "  <tbody>\n",
       "    <tr>\n",
       "      <th>angry</th>\n",
       "      <th>0</th>\n",
       "      <td>1103</td>\n",
       "    </tr>\n",
       "    <tr>\n",
       "      <th>happy</th>\n",
       "      <th>1</th>\n",
       "      <td>1636</td>\n",
       "    </tr>\n",
       "    <tr>\n",
       "      <th>sad</th>\n",
       "      <th>2</th>\n",
       "      <td>1084</td>\n",
       "    </tr>\n",
       "    <tr>\n",
       "      <th>neutral</th>\n",
       "      <th>3</th>\n",
       "      <td>1708</td>\n",
       "    </tr>\n",
       "  </tbody>\n",
       "</table>\n",
       "</div>"
      ],
      "text/plain": [
       "                   Emotion\n",
       "                     count\n",
       "Emotion Emotion_Id        \n",
       "angry   0             1103\n",
       "happy   1             1636\n",
       "sad     2             1084\n",
       "neutral 3             1708"
      ]
     },
     "execution_count": 3,
     "metadata": {},
     "output_type": "execute_result"
    }
   ],
   "source": [
    "df = pd.read_csv(EXTRACTED_FEATURES_FILE)\n",
    "df = df.set_index('File')\n",
    "df['Valence'] = df['Valence'].apply(lambda x: x if x <= 5 else 5)\n",
    "\n",
    "print(f\"Number of Audio Files: {df.shape[0]}\")\n",
    "df.groupby(['Emotion', 'Emotion_Id']).agg({'Emotion': ['count']}).sort_values(\"Emotion_Id\")"
   ]
  },
  {
   "cell_type": "code",
   "execution_count": 4,
   "metadata": {},
   "outputs": [
    {
     "data": {
      "text/plain": [
       "['traditional_model.pkl']"
      ]
     },
     "execution_count": 4,
     "metadata": {},
     "output_type": "execute_result"
    }
   ],
   "source": [
    "X = df.iloc[:, 9:]\n",
    "y = df.iloc[:, 5:6]\n",
    "\n",
    "model = XGBClassifier(random_state=1, colsample_bytree=0.8, colsample_bylevel=0.8, subsample=0.9,\n",
    "                      n_estimators=512, max_depth=8, learning_rate=0.1, n_jobs=-1)\n",
    "\n",
    "model.fit(X.values, y.values.ravel())\n",
    "\n",
    "dump(model, 'traditional_model.pkl')\n"
   ]
  },
  {
   "cell_type": "markdown",
   "metadata": {},
   "source": [
    "Data Stratification New Data"
   ]
  },
  {
   "cell_type": "code",
   "execution_count": 8,
   "metadata": {},
   "outputs": [
    {
     "name": "stdout",
     "output_type": "stream",
     "text": [
      "Number of Audio Files: 3347\n",
      "        Activation   Valence Dominance\n",
      "              mean      mean      mean\n",
      "Emotion                               \n",
      "angry     3.865258  1.832395  4.096009\n",
      "happy     3.546173  3.993541  3.426157\n",
      "neutral   2.788662  3.009868  3.016146\n",
      "sad       2.484163  2.048013  2.649824\n",
      "                   Emotion\n",
      "                     count\n",
      "Emotion Emotion_Id        \n",
      "angry   0              710\n",
      "happy   1             1045\n",
      "neutral 3              929\n",
      "sad     2              663\n"
     ]
    },
    {
     "data": {
      "text/plain": [
       "['stratified_traditional_model.pkl']"
      ]
     },
     "execution_count": 8,
     "metadata": {},
     "output_type": "execute_result"
    }
   ],
   "source": [
    "df = pd.read_csv(EXTRACTED_FEATURES_FILE)\n",
    "df = df.sort_values(['Emotion_Id', 'Gender'], ascending=(True, True))\n",
    "df = df.set_index('File')\n",
    "df['Valence'] = df['Valence'].apply(lambda x: x if x <= 5 else 5)\n",
    "df = df[((df['Activation'] >= 2.5)\n",
    "        & (df['Valence'] >= 3)\n",
    "        & (df['Dominance'] >= 2.5)\n",
    "        ) | (df['Emotion'] != 'happy')]\n",
    "\n",
    "df = df[((df['Activation'] >= 1.5)\n",
    "        & (df['Valence'] <= 2.5)\n",
    "        & (df['Dominance'] <= 3.5)\n",
    "        ) | (df['Emotion'] != 'sad')]\n",
    "\n",
    "df = df[((df['Activation'] >= 3)\n",
    "        & (df['Valence'] <= 4.5)\n",
    "        ) | (df['Emotion'] != 'angry')]\n",
    "\n",
    "df = df[((df['Activation'] >= 1) & (df['Activation'] < 4)\n",
    "        & (df['Valence'] >= 2.5)\n",
    "        & (df['Dominance'] > 2)\n",
    "        ) | (df['Emotion'] != 'neutral')]\n",
    "\n",
    "df = df[df[\"Duration\"] >= 2]\n",
    "\n",
    "print(f\"Number of Audio Files: {df.shape[0]}\")\n",
    "print(df.groupby(['Emotion']).agg(\n",
    "    {'Activation': ['mean'], 'Valence': ['mean'], 'Dominance': ['mean']}))\n",
    "print(df.groupby(['Emotion', 'Emotion_Id']).agg({'Emotion': ['count']}))\n",
    "\n",
    "X = df.iloc[:, 9:]\n",
    "y = df.iloc[:, 5:6]\n",
    "\n",
    "model = XGBClassifier(random_state=1, colsample_bytree=0.8, colsample_bylevel=0.8, subsample=0.9,\n",
    "                      n_estimators=512, max_depth=8, learning_rate=0.1, n_jobs=-1)\n",
    "\n",
    "model.fit(X.values, y.values.ravel())\n",
    "\n",
    "dump(model, 'stratified_traditional_model.pkl')\n"
   ]
  },
  {
   "cell_type": "code",
   "execution_count": null,
   "metadata": {},
   "outputs": [],
   "source": []
  }
 ],
 "metadata": {
  "interpreter": {
   "hash": "08f961e7f63012a9c9ab542dea19c85589b3bede689791d2c90a627a6e0641da"
  },
  "kernelspec": {
   "display_name": "Python 3.8.0 64-bit",
   "language": "python",
   "name": "python3"
  },
  "language_info": {
   "codemirror_mode": {
    "name": "ipython",
    "version": 3
   },
   "file_extension": ".py",
   "mimetype": "text/x-python",
   "name": "python",
   "nbconvert_exporter": "python",
   "pygments_lexer": "ipython3",
   "version": "3.8.0"
  },
  "orig_nbformat": 4
 },
 "nbformat": 4,
 "nbformat_minor": 2
}
