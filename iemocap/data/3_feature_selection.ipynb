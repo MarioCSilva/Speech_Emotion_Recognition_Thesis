{
 "cells": [
  {
   "cell_type": "code",
   "execution_count": 6,
   "metadata": {},
   "outputs": [],
   "source": [
    "%%capture\n",
    "import pandas as pd\n",
    "import numpy as np\n",
    "import matplotlib.pyplot as plt\n",
    "from tqdm import tqdm\n",
    "from tabulate import tabulate\n",
    "from collections import defaultdict\n",
    "from xgboost import XGBClassifier as XGB\n",
    "from mlxtend.feature_selection import SequentialFeatureSelector as sfs\n",
    "from sklearn import metrics\n",
    "from sklearn.model_selection import StratifiedKFold\n",
    "from sklearn.ensemble import RandomForestClassifier as RandomForest\n",
    "from sklearn.linear_model import RidgeClassifier as Ridge\n",
    "from sklearn.model_selection import cross_val_score, cross_val_predict\n",
    "from sklearn.ensemble import ExtraTreesClassifier as ExtraTrees\n",
    "from tensorflow.keras.wrappers.scikit_learn import KerasRegressor\n",
    "import tensorflow as tf"
   ]
  },
  {
   "cell_type": "code",
   "execution_count": 2,
   "metadata": {},
   "outputs": [],
   "source": [
    "EXTRACTED_FEATURES_FILE = 'all_extracted_features_iemocap.csv'\n",
    "pd.options.display.max_columns = None\n",
    "pd.options.display.max_rows = None\n",
    "tf.random.set_seed(1)\n",
    "plt.rcParams['figure.dpi'] = 300"
   ]
  },
  {
   "cell_type": "code",
   "execution_count": 3,
   "metadata": {},
   "outputs": [
    {
     "name": "stdout",
     "output_type": "stream",
     "text": [
      "Number of Audio Files: 5526\n"
     ]
    },
    {
     "data": {
      "text/html": [
       "<div>\n",
       "<style scoped>\n",
       "    .dataframe tbody tr th:only-of-type {\n",
       "        vertical-align: middle;\n",
       "    }\n",
       "\n",
       "    .dataframe tbody tr th {\n",
       "        vertical-align: top;\n",
       "    }\n",
       "\n",
       "    .dataframe thead tr th {\n",
       "        text-align: left;\n",
       "    }\n",
       "\n",
       "    .dataframe thead tr:last-of-type th {\n",
       "        text-align: right;\n",
       "    }\n",
       "</style>\n",
       "<table border=\"1\" class=\"dataframe\">\n",
       "  <thead>\n",
       "    <tr>\n",
       "      <th></th>\n",
       "      <th></th>\n",
       "      <th>Emotion</th>\n",
       "    </tr>\n",
       "    <tr>\n",
       "      <th></th>\n",
       "      <th></th>\n",
       "      <th>count</th>\n",
       "    </tr>\n",
       "    <tr>\n",
       "      <th>Emotion</th>\n",
       "      <th>Emotion_Id</th>\n",
       "      <th></th>\n",
       "    </tr>\n",
       "  </thead>\n",
       "  <tbody>\n",
       "    <tr>\n",
       "      <th>angry</th>\n",
       "      <th>0</th>\n",
       "      <td>1103</td>\n",
       "    </tr>\n",
       "    <tr>\n",
       "      <th>happy</th>\n",
       "      <th>1</th>\n",
       "      <td>1633</td>\n",
       "    </tr>\n",
       "    <tr>\n",
       "      <th>neutral</th>\n",
       "      <th>3</th>\n",
       "      <td>1706</td>\n",
       "    </tr>\n",
       "    <tr>\n",
       "      <th>sad</th>\n",
       "      <th>2</th>\n",
       "      <td>1084</td>\n",
       "    </tr>\n",
       "  </tbody>\n",
       "</table>\n",
       "</div>"
      ],
      "text/plain": [
       "                   Emotion\n",
       "                     count\n",
       "Emotion Emotion_Id        \n",
       "angry   0             1103\n",
       "happy   1             1633\n",
       "neutral 3             1706\n",
       "sad     2             1084"
      ]
     },
     "execution_count": 3,
     "metadata": {},
     "output_type": "execute_result"
    }
   ],
   "source": [
    "df = pd.read_csv(EXTRACTED_FEATURES_FILE)\n",
    "df = df.sort_values(['Emotion_Id', 'Gender'], ascending = (True, True))\n",
    "df = df.set_index('File')\n",
    "df = df[df['Emotion'].isin({'ang', 'neu', 'hap', 'exc', 'sad'})]\n",
    "df = df[(1 <= df['Activation']) & (df['Activation'] <= 5) & (1 <= df['Valence']) & (df['Valence'] <= 5) & (1 <= df['Dominance']) & (df['Dominance'] <= 5)]\n",
    "df.loc[df['Emotion'] == 'ang', 'Emotion'] = 'angry'\n",
    "df.loc[df['Emotion'] == 'neu', 'Emotion'] = 'neutral'\n",
    "df.loc[df['Emotion'] == 'exc', 'Emotion'] = 'happy'\n",
    "df.loc[df['Emotion'] == 'hap', 'Emotion'] = 'happy'\n",
    "\n",
    "df.loc[df['Emotion_Id'] == 5, 'Emotion_Id'] = 1\n",
    "\n",
    "print(f\"Number of Audio Files: {df.shape[0]}\")\n",
    "df.groupby(['Emotion', 'Emotion_Id']).agg({'Emotion': ['count']})"
   ]
  },
  {
   "cell_type": "code",
   "execution_count": 4,
   "metadata": {},
   "outputs": [],
   "source": [
    "data = df.iloc[:,8:]\n",
    "features = df.columns.values[8:]\n",
    "labels = df[\"Emotion_Id\"].values"
   ]
  },
  {
   "cell_type": "code",
   "execution_count": 7,
   "metadata": {},
   "outputs": [
    {
     "name": "stderr",
     "output_type": "stream",
     "text": [
      "100%|██████████| 4/4 [04:48<00:00, 72.13s/it] \n"
     ]
    }
   ],
   "source": [
    "def categorical_cross_validation(clf, data, labels, cv=5):\n",
    "    kfold = StratifiedKFold(n_splits=cv, shuffle=True, random_state=1)\n",
    "    \n",
    "    X = data\n",
    "    y = labels\n",
    "    \n",
    "    scores = []\n",
    "    fold_no = 1\n",
    "    for train, test in kfold.split(X, y):\n",
    "        model = clf()\n",
    "        \n",
    "        X_train, X_test = X.iloc[train], X.iloc[test]\n",
    "        y_train, y_test = y[train], y[test]\n",
    "        \n",
    "        model.fit(X_train, y_train)\n",
    "        \n",
    "        y_pred = model.predict(X_test)\n",
    "        \n",
    "        scores.append(metrics.accuracy_score(y_test, y_pred))\n",
    "\n",
    "        fold_no = fold_no + 1\n",
    "\n",
    "    return scores\n",
    "\n",
    "def compare_clfs(clfs, data, labels):\n",
    "    clfs_scores = defaultdict(dict)\n",
    "    \n",
    "    for clf in tqdm(clfs):\n",
    "        scores = categorical_cross_validation(clf, data, labels, cv=5)\n",
    "        \n",
    "        # scores for each fold\n",
    "        mean_score = np.mean(scores)\n",
    "        std_score = np.std(scores)\n",
    "\n",
    "        clfs_scores[clf().__class__.__name__.split(\"(\")[0]] = (mean_score, std_score)\n",
    "    \n",
    "    return clfs_scores\n",
    "\n",
    "def get_new_model0(): return RandomForest(random_state=1, max_features=None)\n",
    "def get_new_model1(): return ExtraTrees(random_state=1, max_features=None)\n",
    "def get_new_model2(): return XGB(random_state=1, objective=\"multi:softprob\")\n",
    "def get_new_model3(): return Ridge(random_state=1)\n",
    "    \n",
    "clfs = [\n",
    "    get_new_model0,\n",
    "    get_new_model1,\n",
    "    get_new_model2,\n",
    "    get_new_model3,\n",
    "]\n",
    "\n",
    "clfs_scores = compare_clfs(clfs, data, labels)"
   ]
  },
  {
   "cell_type": "markdown",
   "metadata": {},
   "source": [
    "With all features"
   ]
  },
  {
   "cell_type": "code",
   "execution_count": 8,
   "metadata": {},
   "outputs": [
    {
     "name": "stdout",
     "output_type": "stream",
     "text": [
      "Classifiers Ordered by Highest Mean Accuracy:\n",
      "                            Mean         Std\n",
      "----------------------  --------  ----------\n",
      "XGBClassifier           0.638073  0.0122026\n",
      "ExtraTreesClassifier    0.625766  0.00926962\n",
      "RandomForestClassifier  0.620521  0.00523204\n",
      "RidgeClassifier         0.614545  0.0196593\n",
      "\n",
      "Classifiers Ordered by Lowest Standard Deviation Accuracy:\n",
      "                            Mean         Std\n",
      "----------------------  --------  ----------\n",
      "RandomForestClassifier  0.620521  0.00523204\n",
      "ExtraTreesClassifier    0.625766  0.00926962\n",
      "XGBClassifier           0.638073  0.0122026\n",
      "RidgeClassifier         0.614545  0.0196593\n"
     ]
    }
   ],
   "source": [
    "print(f\"Classifiers Ordered by Highest Mean Accuracy:\")\n",
    "print(tabulate(\n",
    "    pd.DataFrame().from_dict(dict(\n",
    "        sorted(clfs_scores.items(), key=lambda item: item[1][0], reverse=True)\n",
    "    ), orient=\"index\", columns=[\"Mean\", \"Std\"]), headers = 'keys'\n",
    "))\n",
    "\n",
    "print(f\"\\nClassifiers Ordered by Lowest Standard Deviation Accuracy:\")\n",
    "print(tabulate(\n",
    "    pd.DataFrame().from_dict(dict(\n",
    "        sorted(clfs_scores.items(), key=lambda item: item[1][1])\n",
    "    ), orient=\"index\", columns=[\"Mean\", \"Std\"]), headers = 'keys'\n",
    "))"
   ]
  }
 ],
 "metadata": {
  "interpreter": {
   "hash": "08f961e7f63012a9c9ab542dea19c85589b3bede689791d2c90a627a6e0641da"
  },
  "kernelspec": {
   "display_name": "Python 3.8.0 64-bit",
   "language": "python",
   "name": "python3"
  },
  "language_info": {
   "codemirror_mode": {
    "name": "ipython",
    "version": 3
   },
   "file_extension": ".py",
   "mimetype": "text/x-python",
   "name": "python",
   "nbconvert_exporter": "python",
   "pygments_lexer": "ipython3",
   "version": "3.8.0"
  },
  "orig_nbformat": 4
 },
 "nbformat": 4,
 "nbformat_minor": 2
}
