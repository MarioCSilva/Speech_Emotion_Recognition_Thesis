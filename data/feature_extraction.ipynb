{
 "cells": [
  {
   "cell_type": "code",
   "execution_count": 1,
   "metadata": {},
   "outputs": [],
   "source": [
    "import sys\n",
    "import os\n",
    "# go to upper diretory\n",
    "sys.path.append(os.path.abspath('./../../'))\n",
    "from collections import defaultdict\n",
    "import glob\n",
    "import librosa\n",
    "from tqdm import tqdm\n",
    "import numpy as np\n",
    "import librosa.display\n",
    "import moviepy.editor as mp\n",
    "import pandas as pd\n",
    "import matplotlib.pyplot as plt\n",
    "import seaborn as sns\n",
    "import sklearn as sk\n",
    "from Audio_Sentiment_Analysis.utils.Configuration import Configuration\n",
    "from sklearn.preprocessing import minmax_scale\n",
    "import csv"
   ]
  },
  {
   "cell_type": "code",
   "execution_count": 2,
   "metadata": {},
   "outputs": [],
   "source": [
    "AUDIO_DIR = f\"{os.path.abspath('./../../')}/eNTERFACE05_Dataset/*/*/*/*.avi\"\n",
    "CONFIG_FILE = f\"{os.path.abspath('./../../')}/Audio_Sentiment_Analysis/data/config.json\""
   ]
  },
  {
   "cell_type": "code",
   "execution_count": 3,
   "metadata": {},
   "outputs": [],
   "source": [
    "config = Configuration.load_json(CONFIG_FILE)"
   ]
  },
  {
   "cell_type": "code",
   "execution_count": 26,
   "metadata": {},
   "outputs": [],
   "source": [
    "def extract_features(audio_file, subject, emotion):\n",
    "    y, sr = librosa.load(audio_file, res_type='kaiser_fast')\n",
    "\n",
    "    rms = librosa.feature.rms(y)\n",
    "    chroma_stft = librosa.feature.chroma_stft(y, sr=sr)\n",
    "    spec_cent = librosa.feature.spectral_centroid(y, sr=sr)\n",
    "    spec_bw = librosa.feature.spectral_bandwidth(y, sr=sr)\n",
    "    rolloff = librosa.feature.spectral_rolloff(y, sr=sr)\n",
    "    zcr = librosa.feature.zero_crossing_rate(y)\n",
    "    mfcc = librosa.feature.mfcc(y, sr=sr)\n",
    "    mel_spect = librosa.feature.melspectrogram(y, sr=sr, n_mels=config.n_mels)\n",
    "\n",
    "    features_str = f'{subject} {emotion} {np.mean(mel_spect)} {np.min(mel_spect)} {np.max(mel_spect)} {np.var(mel_spect)} {np.std(mel_spect)}\\\n",
    "        {np.mean(chroma_stft)} {np.mean(rms)} {np.mean(spec_cent)} {np.mean(spec_bw)} {np.mean(rolloff)} {np.mean(zcr)}'\n",
    "\n",
    "    for e in mfcc:\n",
    "        features_str += f' {np.mean(e)}'\n",
    "\n",
    "    return features_str.split()"
   ]
  },
  {
   "cell_type": "code",
   "execution_count": 27,
   "metadata": {},
   "outputs": [],
   "source": [
    "def process_data(audio_dir, proc_feat_dataset):\n",
    "    # Create a CSV for storing all processed features and write the header\n",
    "    header = 'subject emotion mel_mean mel_min mel_max mel_var mel_std chroma_stft rmse spectral_centroid spectral_bandwidth rolloff zero_crossing_rate'\n",
    "    for i in range(1, 21):\n",
    "        header += f' mfcc{i}'\n",
    "    header = header.split()\n",
    "    file = open(proc_feat_dataset, 'w', newline='')\n",
    "    writer = csv.writer(file)\n",
    "    writer.writerow(header)\n",
    "\n",
    "    print(\"Processing audio files from all subjects:\")\n",
    "    for file_path in tqdm(glob.glob(audio_dir)):\n",
    "        labels =  file_path.split('\\\\')\n",
    "        # labels =  file_path.split('/')\n",
    "        subject = labels[-4].split()[1]\n",
    "        emotion = labels[-3]\n",
    "        file_type = labels[-1].split('.')[-1]\n",
    "\n",
    "        if file_type == 'avi':\n",
    "            audio_file_path = file_path[:-3] + 'wav'\n",
    "            # convert file type to wav\n",
    "            if not os.path.isfile(audio_file_path):\n",
    "                audio_clip = mp.VideoFileClip(file_path)\n",
    "                audio_clip.audio.write_audiofile(audio_file_path)\n",
    "            file_path = audio_file_path\n",
    "\n",
    "        processed_data = extract_features(file_path, subject, emotion)\n",
    "        writer.writerow(processed_data)\n",
    "            "
   ]
  },
  {
   "cell_type": "code",
   "execution_count": 28,
   "metadata": {},
   "outputs": [
    {
     "name": "stdout",
     "output_type": "stream",
     "text": [
      "Processing audio files from all subjects:\n"
     ]
    },
    {
     "name": "stderr",
     "output_type": "stream",
     "text": [
      "100%|██████████| 1287/1287 [00:57<00:00, 22.46it/s]\n"
     ]
    }
   ],
   "source": [
    "# extract features from audio files and store them in a dataset\n",
    "proc_feat_dataset = 'proc_feat_ent05.csv'\n",
    "process_data(AUDIO_DIR, proc_feat_dataset)"
   ]
  },
  {
   "cell_type": "code",
   "execution_count": 37,
   "metadata": {},
   "outputs": [],
   "source": [
    "def load_data(proc_feat_dataset):\n",
    "    sub_emo_data = defaultdict(lambda: defaultdict(lambda: defaultdict(list)))\n",
    "\n",
    "    with open(proc_feat_dataset) as dataset:\n",
    "        reader = csv.DictReader(dataset)\n",
    "        for row in reader:\n",
    "            subject, emotion = row.pop('subject'), row.pop('emotion')\n",
    "            sub_emo_data[subject][emotion]['features'].append(list(row.values()))\n",
    "    return sub_emo_data"
   ]
  },
  {
   "cell_type": "code",
   "execution_count": 38,
   "metadata": {},
   "outputs": [],
   "source": [
    "# Load the processed features writen in the dataset\n",
    "# sub_emo_data = { subject: { emotion: { files: [], features: [] } } }\n",
    "sub_emo_data = load_data(proc_feat_dataset)"
   ]
  },
  {
   "cell_type": "code",
   "execution_count": 41,
   "metadata": {},
   "outputs": [],
   "source": [
    "def display_melspecgram(mel_fig, axs, i, emotion, melspecgram):\n",
    "    ax = axs[0 if i < 3 else 1, i if i < 3 else i - 3]\n",
    "    im = ax.pcolormesh(melspecgram, cmap=\"magma\")\n",
    "    ax.set_title(emotion)\n",
    "    mel_fig.colorbar(im, ax=ax)"
   ]
  },
  {
   "cell_type": "code",
   "execution_count": 89,
   "metadata": {},
   "outputs": [],
   "source": [
    "def analyse_features(sub_emo_data):\n",
    "    # { emotion : { zero_cr: [], spec_cent } }\n",
    "    emo_data = defaultdict(lambda: defaultdict(list))\n",
    "\n",
    "    for subject, sub_data in sub_emo_data.items():\n",
    "        for emotion in sub_data:\n",
    "            # mel_mean mel_min mel_max mel_var mel_std chroma_stft rmse spectral_centroid spectral_bandwidth rolloff zero_crossing_rate\n",
    "            features = np.array(sub_data[emotion]['features'])\n",
    "\n",
    "            emo_data[emotion]['mel_mean'].extend(features[:,0])\n",
    "            emo_data[emotion]['mel_min'].extend(features[:,1])\n",
    "            emo_data[emotion]['mel_max'].extend(features[:,2])\n",
    "            emo_data[emotion]['mel_var'].extend(features[:,3])\n",
    "            emo_data[emotion]['mel_std'].extend(features[:,4])\n",
    "            emo_data[emotion]['chroma_stft'].extend(features[:,5])\n",
    "            emo_data[emotion]['rmse'].extend(features[:,6])\n",
    "            emo_data[emotion]['spec_cent'].extend(features[:,7])\n",
    "            emo_data[emotion]['spec_band'].extend(features[:,8])\n",
    "            emo_data[emotion]['rolloff'].extend(features[:,9])\n",
    "            emo_data[emotion]['zero_cr'].extend(features[:,10])\n",
    "\n",
    "    spec_cent, zero_cr = [], []\n",
    "    for emotion, features in emo_data.items():\n",
    "        # scaling features between 0 and 1\n",
    "        zero_cr_values = minmax_scale(features['zero_cr'], config.scale_range)\n",
    "        spec_cent_values = minmax_scale(features['spec_cent'], config.scale_range)\n",
    "\n",
    "        # obtain mean and store it\n",
    "        zero_cr.append(np.mean(zero_cr_values))\n",
    "        spec_cent.append(np.mean(spec_cent_values))\n",
    "\n",
    "\n",
    "    df = pd.DataFrame(zip(list(emo_data.keys())*6, [\"Zero Crossing Rate\"]*6+[\"Spectral Centroid\"]*6,\\\n",
    "        zero_cr+spec_cent), columns=[\"Emotion\", \"Mean Values\", 'Value'])\n",
    "    plt.figure(figsize=(10, 6))\n",
    "    plt.title(\"Emotions' Features of All Subjects\")\n",
    "    sns.barplot(x=\"Emotion\", hue=\"Mean Values\", y=\"Value\", data=df)\n",
    "    plt.show()"
   ]
  },
  {
   "cell_type": "code",
   "execution_count": 90,
   "metadata": {},
   "outputs": [
    {
     "data": {
      "image/png": "[encoded data removed]",
      "text/plain": [
       "<Figure size 720x432 with 1 Axes>"
      ]
     },
     "metadata": {
      "needs_background": "light"
     },
     "output_type": "display_data"
    }
   ],
   "source": [
    "# analyse the extracted features\n",
    "analyse_features(sub_emo_data)"
   ]
  },
  {
   "cell_type": "code",
   "execution_count": null,
   "metadata": {},
   "outputs": [],
   "source": [
    "# subject emotion mel_mean mel_min mel_max mel_var mel_std chroma_stft rmse spectral_centroid spectral_bandwidth rolloff zero_crossing_rate\n",
    "\n",
    "\n"
   ]
  }
 ],
 "metadata": {
  "interpreter": {
   "hash": "aee8b7b246df8f9039afb4144a1f6fd8d2ca17a180786b69acc140d282b71a49"
  },
  "kernelspec": {
   "display_name": "Python 3.7.12 64-bit",
   "language": "python",
   "name": "python3"
  },
  "language_info": {
   "codemirror_mode": {
    "name": "ipython",
    "version": 3
   },
   "file_extension": ".py",
   "mimetype": "text/x-python",
   "name": "python",
   "nbconvert_exporter": "python",
   "pygments_lexer": "ipython3",
   "version": "3.7.0"
  },
  "orig_nbformat": 4
 },
 "nbformat": 4,
 "nbformat_minor": 2
}
