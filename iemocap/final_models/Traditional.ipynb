{
 "cells": [
  {
   "cell_type": "code",
   "execution_count": 1,
   "metadata": {},
   "outputs": [],
   "source": [
    "%%capture\n",
    "import sys\n",
    "import os\n",
    "# go to upper diretory\n",
    "sys.path.append(os.path.abspath('./../../../'))\n",
    "import matplotlib.pyplot as plt\n",
    "import seaborn as sns\n",
    "import numpy as np\n",
    "import pickle\n",
    "import pandas as pd\n",
    "import tensorflow as tf\n",
    "import librosa\n",
    "import librosa.display\n",
    "from glob import glob\n",
    "from sklearn.experimental import enable_hist_gradient_boosting\n",
    "from sklearn.ensemble import RandomForestClassifier as RandomForest, HistGradientBoostingClassifier\n",
    "from sklearn.preprocessing import OneHotEncoder\n",
    "from sklearn.linear_model import SGDClassifier, RidgeClassifier\n",
    "from sklearn import metrics\n",
    "from sklearn.model_selection import cross_val_score, cross_val_predict, StratifiedKFold\n",
    "from Audio_Sentiment_Analysis.utils.Configuration import Configuration\n",
    "from keras.models import Sequential\n",
    "from keras.layers import Bidirectional, Reshape, Lambda, Activation, Dense, LSTM, Dropout, Flatten, Conv1D, Conv2D, MaxPooling1D, MaxPooling2D, BatchNormalization\n",
    "from keras.callbacks import EarlyStopping\n",
    "from keras.losses import SparseCategoricalCrossentropy, MeanAbsoluteError, MeanSquaredError\n",
    "from keras.optimizers import Adam\n",
    "from PIL import Image\n",
    "from tabulate import tabulate\n",
    "from pprint import pprint\n",
    "from sklearn.discriminant_analysis import LinearDiscriminantAnalysis\n",
    "from sklearn.ensemble import GradientBoostingClassifier, AdaBoostClassifier\n",
    "from sklearn.linear_model import RidgeClassifier as Ridge\n",
    "from imblearn.ensemble import BalancedRandomForestClassifier\n",
    "import time\n",
    "from keras.utils import load_img, img_to_array\n",
    "from keras.callbacks import Callback\n",
    "\n",
    "AUDIO_DIR = f\"{os.path.abspath('./../../../')}/IEMOCAP_Dataset\"\n",
    "EXTRACTED_FEATURES_FILE = f\"{os.path.abspath('./../../../')}/Audio_Sentiment_Analysis/iemocap/data/preprocessed_extracted_features_iemocap.csv\"\n",
    "from joblib import load, dump\n",
    "\n",
    "OneHotEncodingConfig = {'0': [1, 0, 0, 0], '1': [0, 1, 0, 0], '2': [0, 0, 1, 0], '3': [0, 0, 0, 1]}\n",
    "plt.rcParams['figure.dpi'] = 300"
   ]
  },
  {
   "cell_type": "code",
   "execution_count": 2,
   "metadata": {},
   "outputs": [
    {
     "name": "stdout",
     "output_type": "stream",
     "text": [
      "Number of Audio Files: 5531\n"
     ]
    },
    {
     "data": {
      "text/html": [
       "<div>\n",
       "<style scoped>\n",
       "    .dataframe tbody tr th:only-of-type {\n",
       "        vertical-align: middle;\n",
       "    }\n",
       "\n",
       "    .dataframe tbody tr th {\n",
       "        vertical-align: top;\n",
       "    }\n",
       "\n",
       "    .dataframe thead tr th {\n",
       "        text-align: left;\n",
       "    }\n",
       "\n",
       "    .dataframe thead tr:last-of-type th {\n",
       "        text-align: right;\n",
       "    }\n",
       "</style>\n",
       "<table border=\"1\" class=\"dataframe\">\n",
       "  <thead>\n",
       "    <tr>\n",
       "      <th></th>\n",
       "      <th></th>\n",
       "      <th>Emotion</th>\n",
       "    </tr>\n",
       "    <tr>\n",
       "      <th></th>\n",
       "      <th></th>\n",
       "      <th>count</th>\n",
       "    </tr>\n",
       "    <tr>\n",
       "      <th>Emotion</th>\n",
       "      <th>Emotion_Id</th>\n",
       "      <th></th>\n",
       "    </tr>\n",
       "  </thead>\n",
       "  <tbody>\n",
       "    <tr>\n",
       "      <th>angry</th>\n",
       "      <th>0</th>\n",
       "      <td>1103</td>\n",
       "    </tr>\n",
       "    <tr>\n",
       "      <th>happy</th>\n",
       "      <th>1</th>\n",
       "      <td>1636</td>\n",
       "    </tr>\n",
       "    <tr>\n",
       "      <th>sad</th>\n",
       "      <th>2</th>\n",
       "      <td>1084</td>\n",
       "    </tr>\n",
       "    <tr>\n",
       "      <th>neutral</th>\n",
       "      <th>3</th>\n",
       "      <td>1708</td>\n",
       "    </tr>\n",
       "  </tbody>\n",
       "</table>\n",
       "</div>"
      ],
      "text/plain": [
       "                   Emotion\n",
       "                     count\n",
       "Emotion Emotion_Id        \n",
       "angry   0             1103\n",
       "happy   1             1636\n",
       "sad     2             1084\n",
       "neutral 3             1708"
      ]
     },
     "execution_count": 2,
     "metadata": {},
     "output_type": "execute_result"
    }
   ],
   "source": [
    "df = pd.read_csv(EXTRACTED_FEATURES_FILE)\n",
    "print(f\"Number of Audio Files: {df.shape[0]}\")\n",
    "df = df.set_index('File')\n",
    "df = df[df['Emotion'].isin({'angry', 'neutral', 'sad', 'happy', 'excited'})]\n",
    "df.loc[df['Emotion'] == 'excited', 'Emotion'] = 'happy'\n",
    "df.loc[df['Emotion_Id'] == 5, 'Emotion_Id'] = 1\n",
    "df.groupby(['Emotion', 'Emotion_Id']).agg({'Emotion': ['count']}).sort_values(\"Emotion_Id\")"
   ]
  },
  {
   "cell_type": "code",
   "execution_count": 3,
   "metadata": {},
   "outputs": [
    {
     "data": {
      "text/plain": [
       "['traditional_model.pkl']"
      ]
     },
     "execution_count": 3,
     "metadata": {},
     "output_type": "execute_result"
    }
   ],
   "source": [
    "X = df.iloc[:,9:]\n",
    "y = df.iloc[:,5:6]\n",
    "\n",
    "model = AdaBoostClassifier(\n",
    "    random_state=1, \n",
    "    estimator=RandomForest(\n",
    "        n_estimators=512, n_jobs=-1, random_state=1\n",
    "    )\n",
    ")\n",
    "\n",
    "model.fit(X.values, y.values.ravel())\n",
    "\n",
    "dump(model, 'traditional_model.pkl')"
   ]
  }
 ],
 "metadata": {
  "interpreter": {
   "hash": "08f961e7f63012a9c9ab542dea19c85589b3bede689791d2c90a627a6e0641da"
  },
  "kernelspec": {
   "display_name": "Python 3.8.0 64-bit",
   "language": "python",
   "name": "python3"
  },
  "language_info": {
   "codemirror_mode": {
    "name": "ipython",
    "version": 3
   },
   "file_extension": ".py",
   "mimetype": "text/x-python",
   "name": "python",
   "nbconvert_exporter": "python",
   "pygments_lexer": "ipython3",
   "version": "3.8.0"
  },
  "orig_nbformat": 4
 },
 "nbformat": 4,
 "nbformat_minor": 2
}
