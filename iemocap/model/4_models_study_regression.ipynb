{
 "cells": [
  {
   "cell_type": "code",
   "execution_count": null,
   "metadata": {},
   "outputs": [],
   "source": [
    "import sys\n",
    "import os\n",
    "# go to upper diretory\n",
    "sys.path.append(os.path.abspath('./../../../'))\n",
    "import matplotlib.pyplot as plt\n",
    "import seaborn as sns\n",
    "import numpy as np\n",
    "import pandas as pd\n",
    "import tensorflow as tf\n",
    "import librosa\n",
    "from sklearn.ensemble import RandomForestClassifier as RandomForestRegressor\n",
    "from sklearn.preprocessing import OneHotEncoder\n",
    "from sklearn import metrics\n",
    "from sklearn.model_selection import cross_val_score, cross_val_predict, StratifiedKFold, KFold\n",
    "from Audio_Sentiment_Analysis.utils.Configuration import Configuration\n",
    "from keras.models import Sequential\n",
    "from keras.layers import Activation, Dense, Dropout, Flatten, Conv1D, MaxPooling1D, MaxPooling2D, BatchNormalization\n",
    "from keras.callbacks import EarlyStopping\n",
    "from tensorflow.keras.losses import SparseCategoricalCrossentropy, MeanAbsoluteError, MeanSquaredError\n",
    "from tensorflow.keras.optimizers import Adam\n",
    "from tensorflow.keras.wrappers.scikit_learn import KerasRegressor\n",
    "\n",
    "AUDIO_DIR = f\"{os.path.abspath('./../../../')}/IEMOCAP_Dataset\"\n",
    "EXTRACTED_FEATURES_FILE = f\"{os.path.abspath('./../../../')}/Audio_Sentiment_Analysis/iemocap/data/extracted_features_iemocap.csv\"\n",
    "CONFIG_FILE = f\"{os.path.abspath('./../../../')}/Audio_Sentiment_Analysis/iemocap/config.json\"\n",
    "RAW_AUDIO_FILES = f\"{os.path.abspath('./../../../')}/Audio_Sentiment_Analysis/iemocap/data/raw_audio_files.csv\"\n",
    "\n",
    "config = Configuration.load_json(CONFIG_FILE)\n",
    "# !pip install autokeras\n",
    "# !pip install --upgrade scipy==1.7.0\n",
    "# !pip install auto-sklearn\n",
    "import autokeras as ak\n",
    "# from autosklearn.classification import AutoSklearnClassifier\n",
    "# from autosklearn.regression import AutoSklearnRegressor\n",
    "plt.rcParams['figure.dpi'] = 300"
   ]
  },
  {
   "cell_type": "markdown",
   "metadata": {},
   "source": [
    "## Read the extracted features from the CSV"
   ]
  },
  {
   "cell_type": "code",
   "execution_count": null,
   "metadata": {},
   "outputs": [],
   "source": [
    "df = pd.read_csv(EXTRACTED_FEATURES_FILE)\n",
    "print(f\"Number of Audio Files: {df.shape[0]}\")\n",
    "df = df.sort_values(['Emotion_Id', 'Gender'], ascending = (True, True))\n",
    "df = df.set_index('File')\n",
    "df"
   ]
  },
  {
   "cell_type": "markdown",
   "metadata": {},
   "source": [
    "## Data used in SOA models"
   ]
  },
  {
   "cell_type": "code",
   "execution_count": null,
   "metadata": {},
   "outputs": [],
   "source": [
    "df = df[df['Emotion'].isin({'angry', 'neutral', 'sad', 'happy', 'excited'})]\n",
    "df.loc[df['Emotion'] == 'excited', 'Emotion'] = 'happy'\n",
    "df.loc[df['Emotion_Id'] == 5, 'Emotion_Id'] = 1\n",
    "data = df.iloc[:,8:]\n",
    "regression_labels = df.iloc[:,5:8].values\n",
    "df.groupby(['Emotion', 'Emotion_Id']).agg({'Emotion': ['count']})"
   ]
  },
  {
   "cell_type": "markdown",
   "metadata": {},
   "source": [
    "# Regression Problem (Valence, Activation, Dominance)"
   ]
  },
  {
   "cell_type": "markdown",
   "metadata": {},
   "source": [
    "## Models"
   ]
  },
  {
   "cell_type": "markdown",
   "metadata": {},
   "source": [
    "### Simple Random Forests"
   ]
  },
  {
   "cell_type": "code",
   "execution_count": null,
   "metadata": {},
   "outputs": [],
   "source": [
    "pred_values = cross_val_predict(RandomForestRegressor(random_state=1, max_features=None),\n",
    "    data.values, regression_labels, cv=5, verbose=1, n_jobs=8)\n",
    "print('MAE: %.3f' % metrics.mean_absolute_error(regression_labels, pred_values))\n",
    "print('MSE: %.3f' % metrics.mean_squared_error(regression_labels, pred_values))\n",
    "print('R2: %.3f' % metrics.r2_score(regression_labels, pred_values))\n",
    "print('EV: %.3f' % metrics.explained_variance_score(regression_labels, pred_values))"
   ]
  },
  {
   "cell_type": "markdown",
   "metadata": {},
   "source": [
    "### AutoSKlearn"
   ]
  },
  {
   "cell_type": "code",
   "execution_count": null,
   "metadata": {},
   "outputs": [],
   "source": [
    "model = AutoSklearnRegressor(\n",
    "    max_models_on_disc=None,\n",
    "    resampling_strategy='cv',\n",
    "    resampling_strategy_arguments={'cv': {'folds': 5}},\n",
    "    seed=1,\n",
    "    n_jobs=-1\n",
    ")\n",
    "model.fit(data.values, regression_labels)"
   ]
  },
  {
   "cell_type": "code",
   "execution_count": null,
   "metadata": {},
   "outputs": [],
   "source": [
    "print(model.sprint_statistics())"
   ]
  },
  {
   "cell_type": "code",
   "execution_count": null,
   "metadata": {},
   "outputs": [],
   "source": [
    "model.show_models()"
   ]
  },
  {
   "cell_type": "code",
   "execution_count": null,
   "metadata": {},
   "outputs": [],
   "source": [
    "model.leaderboard()"
   ]
  },
  {
   "cell_type": "markdown",
   "metadata": {},
   "source": [
    "#### Testing the Highest Ranked Model from the Auto Keras"
   ]
  },
  {
   "cell_type": "code",
   "execution_count": null,
   "metadata": {},
   "outputs": [],
   "source": [
    "from sklearn.ensemble import ExtraTreesRegressor\n",
    "pred_values = cross_val_predict(ExtraTreesRegressor(max_features=0.6058051610484844, min_samples_leaf=9,\n",
    "    min_samples_split=10, n_estimators=512, n_jobs=8, random_state=1, warm_start=True),\n",
    "    data.values, regression_labels, cv=5, verbose=1, n_jobs=8)\n",
    "print('MAE: %.3f' % metrics.mean_absolute_error(regression_labels, pred_values))\n",
    "print('MSE: %.3f' % metrics.mean_squared_error(regression_labels, pred_values))\n",
    "print('R2: %.3f' % metrics.r2_score(regression_labels, pred_values))\n",
    "print('EV: %.3f' % metrics.explained_variance_score(regression_labels, pred_values))"
   ]
  },
  {
   "cell_type": "markdown",
   "metadata": {},
   "source": [
    "### Convolution Neural Networks"
   ]
  },
  {
   "cell_type": "code",
   "execution_count": null,
   "metadata": {},
   "outputs": [],
   "source": [
    "def build_model_0(input_shape=(24, 1), loss=MeanSquaredError(), optimizer=Adam(learning_rate=1e-5, epsilon=1e-6)):\n",
    "    if loss.__class__ == SparseCategoricalCrossentropy().__class__:\n",
    "        n_labels = 4\n",
    "        metrics = ['accuracy']\n",
    "        activation = 'softmax'\n",
    "    else:\n",
    "        n_labels = 3\n",
    "        metrics = ['mae']\n",
    "        activation = 'relu'\n",
    "\n",
    "    model = Sequential()\n",
    "    model.add(Conv1D(256, (5), input_shape=input_shape))\n",
    "    model.add(BatchNormalization())\n",
    "    model.add(Activation('relu'))\n",
    "\n",
    "    model.add(Conv1D(128, (5)))\n",
    "    model.add(Activation('relu'))\n",
    "    model.add(Dropout(0.2))\n",
    "    model.add(MaxPooling1D(n_labels, strides=1))\n",
    "\n",
    "    model.add(Conv1D(128, (5)))\n",
    "    model.add(Activation('relu'))\n",
    "    model.add(BatchNormalization())\n",
    "    model.add(Dropout(0.2))\n",
    "\n",
    "    model.add(Flatten())\n",
    "\n",
    "    model.add(Dense(n_labels))\n",
    "\n",
    "    model.add(Activation(activation))\n",
    "\n",
    "    model.compile(loss=loss, optimizer=optimizer, metrics=metrics)\n",
    "    return model\n",
    "build_model_0(input_shape=(data.iloc[0].shape[0],1)).summary(show_trainable=True)"
   ]
  },
  {
   "cell_type": "code",
   "execution_count": null,
   "metadata": {},
   "outputs": [],
   "source": [
    "def regression_cross_validation(callbacks, no_epochs, batch_size, loss, optimizer, verbosity, num_folds):\n",
    "  print('------------------------------------------------------------------------')\n",
    "  kfold = KFold(n_splits=num_folds, shuffle=True, random_state=1)\n",
    "  mae_per_fold = []\n",
    "  loss_per_fold = []\n",
    "  fold_no = 1\n",
    "  \n",
    "  X = df.iloc[:,8:]\n",
    "  y = df.iloc[:,5:8]\n",
    "\n",
    "  for train, test in kfold.split(X, y):\n",
    "    model = build_model_0(input_shape=(data.shape[1], 1), loss=loss, optimizer=optimizer)\n",
    "    \n",
    "    X_train, X_test = X.iloc[train], X.iloc[test]\n",
    "    y_train, y_test = y.iloc[train], y.iloc[test]\n",
    "\n",
    "    print(f'Training for fold {fold_no} ...')\n",
    "\n",
    "    history = model.fit(X_train, y_train,\n",
    "                batch_size=batch_size,\n",
    "                epochs=no_epochs,\n",
    "                verbose=verbosity,\n",
    "                callbacks=callbacks,\n",
    "                workers=4)\n",
    "\n",
    "    scores = model.evaluate(X_test, y_test, verbose=verbosity)\n",
    "\n",
    "    print(f'Score for fold {fold_no}: {model.metrics_names[0]} of {scores[0]}; {model.metrics_names[1]} of {scores[1]*100}%')\n",
    "    mae_per_fold.append(scores[1] * 100)\n",
    "    loss_per_fold.append(scores[0])\n",
    "\n",
    "    fold_no = fold_no + 1\n",
    "\n",
    "  print('------------------------------------------------------------------------')\n",
    "  print('Score per fold')\n",
    "  for i in range(0, len(mae_per_fold)):\n",
    "    print(f'> Fold {i+1} - Loss: {loss_per_fold[i]} - MAE: {mae_per_fold[i]}%')\n",
    "  print('------------------------------------------------------------------------')\n",
    "  print('Average scores for all folds:')\n",
    "  print(f'> MAE: {np.mean(mae_per_fold)} (+- {np.std(mae_per_fold)})')\n",
    "  print(f'> Loss: {np.mean(loss_per_fold)}')\n",
    "  print('------------------------------------------------------------------------')"
   ]
  },
  {
   "cell_type": "code",
   "execution_count": null,
   "metadata": {},
   "outputs": [],
   "source": [
    "callback = EarlyStopping(monitor='loss', patience=10)\n",
    "no_epochs = 500 # try 300 or 700\n",
    "batch_size = 32 # try 16\n",
    "learning_rate=1e-5 # try 1e-5\n",
    "loss = MeanAbsoluteError()\n",
    "optimizer = Adam(learning_rate=learning_rate)\n",
    "\n",
    "verbosity = 0\n",
    "num_folds = 5\n",
    "\n",
    "regression_cross_validation(callback, no_epochs, batch_size, loss, optimizer, verbosity, num_folds)"
   ]
  },
  {
   "cell_type": "markdown",
   "metadata": {},
   "source": [
    "### AutoKeras"
   ]
  },
  {
   "cell_type": "code",
   "execution_count": null,
   "metadata": {},
   "outputs": [],
   "source": [
    "def categorical_cross_validation2(no_epochs, batch_size, loss, optimizer, verbosity, num_folds):\n",
    "  print('------------------------------------------------------------------------')\n",
    "  kfold = StratifiedKFold(n_splits=num_folds, shuffle=True, random_state=1)\n",
    "  acc_per_fold = []\n",
    "  loss_per_fold = []\n",
    "  fold_no = 1\n",
    "  \n",
    "  X = df.iloc[:,8:]\n",
    "  y = df.iloc[:,4:5]\n",
    "\n",
    "  for train, test in kfold.split(X, y):\n",
    "    model = ak.StructuredDataClassifier(overwrite=True, max_trials=100, seed=1, directory=f\"best_regression_keras_model_fold_{fold_no}\")\n",
    "    \n",
    "    X_train, X_test = X.iloc[train], X.iloc[test]\n",
    "    y_train, y_test = y.iloc[train], y.iloc[test]\n",
    "\n",
    "    print(f'Training for fold {fold_no} ...')\n",
    "\n",
    "    history = model.fit(X_train, y_train,\n",
    "                batch_size=batch_size,\n",
    "                epochs=no_epochs,\n",
    "                verbose=verbosity,\n",
    "                callbacks=[EarlyStopping()],\n",
    "                workers=8)\n",
    "  \n",
    "    print(model.export_model().summary())\n",
    "\n",
    "    scores = model.evaluate(X_test, y_test, verbose=verbosity)\n",
    "\n",
    "    print(f'Score for fold {fold_no}: Loss of {scores[0]}; Accuracy of {scores[1]*100}%')\n",
    "    acc_per_fold.append(scores[1] * 100)\n",
    "    loss_per_fold.append(scores[0])\n",
    "\n",
    "    fold_no = fold_no + 1\n",
    "\n",
    "  print('------------------------------------------------------------------------')\n",
    "  print('Score per fold')\n",
    "  for i in range(0, len(acc_per_fold)):\n",
    "    print(f'> Fold {i+1} - Loss: {loss_per_fold[i]} - Accuracy: {acc_per_fold[i]}%')\n",
    "  print('------------------------------------------------------------------------')\n",
    "  print('Average scores for all folds:')\n",
    "  print(f'> Accuracy: {np.mean(acc_per_fold)} (+- {np.std(acc_per_fold)})')\n",
    "  print(f'> Loss: {np.mean(loss_per_fold)}')\n",
    "  print('------------------------------------------------------------------------')\n",
    "\n",
    "# classifier that tries 100 different keras classifier models\n",
    "no_epochs = 500 # try 300 or 700\n",
    "batch_size = 16 # try 16\n",
    "learning_rate=1e-5 # try 1e-4\n",
    "loss = SparseCategoricalCrossentropy()\n",
    "optimizer = Adam(learning_rate=learning_rate)\n",
    "\n",
    "verbosity = 1\n",
    "num_folds = 5\n",
    "\n",
    "categorical_cross_validation2(no_epochs, batch_size, loss, optimizer, verbosity, num_folds)"
   ]
  },
  {
   "cell_type": "markdown",
   "metadata": {},
   "source": [
    "#### Testing with Best Model"
   ]
  },
  {
   "cell_type": "code",
   "execution_count": null,
   "metadata": {},
   "outputs": [],
   "source": [
    "def categorical_cross_validation4(model, verbosity, num_folds):\n",
    "  print('------------------------------------------------------------------------')\n",
    "  kfold = StratifiedKFold(n_splits=num_folds, shuffle=True, random_state=1)\n",
    "  acc_per_fold = []\n",
    "  loss_per_fold = []\n",
    "  fold_no = 1\n",
    "\n",
    "  X = df.iloc[:,8:]\n",
    "  y = df.iloc[:,4:5]\n",
    "\n",
    "  for train, test in kfold.split(X, y):    \n",
    "    X_train, X_test = X.iloc[train], X.iloc[test]\n",
    "    y_train, y_test = y.iloc[train], y.iloc[test]\n",
    "\n",
    "    y_test = y_test.astype('str')\n",
    "    y_test = OneHotEncoder().fit_transform(y_test).toarray()\n",
    "    print(y_test)\n",
    "\n",
    "    scores = model.evaluate(X_test, y_test, verbose=verbosity)\n",
    "\n",
    "    print(f'Score for fold {fold_no}: Loss of {scores[0]}; Accuracy of {scores[1]*100}%')\n",
    "    acc_per_fold.append(scores[1] * 100)\n",
    "    loss_per_fold.append(scores[0])\n",
    "\n",
    "    fold_no = fold_no + 1\n",
    "\n",
    "    print('------------------------------------------------------------------------')\n",
    "    print('Score per fold')\n",
    "    for i in range(0, len(acc_per_fold)):\n",
    "      print(f'> Fold {i+1} - Loss: {loss_per_fold[i]} - Accuracy: {acc_per_fold[i]}%')\n",
    "  print('------------------------------------------------------------------------')\n",
    "  print('Average scores for all folds:')\n",
    "  print(f'> Accuracy: {np.mean(acc_per_fold)} (+- {np.std(acc_per_fold)})')\n",
    "  print(f'> Loss: {np.mean(loss_per_fold)}')\n",
    "  print('------------------------------------------------------------------------')"
   ]
  },
  {
   "cell_type": "markdown",
   "metadata": {},
   "source": [
    "## Mel-Spectogram as the Input Feature"
   ]
  }
 ],
 "metadata": {
  "interpreter": {
   "hash": "08f961e7f63012a9c9ab542dea19c85589b3bede689791d2c90a627a6e0641da"
  },
  "kernelspec": {
   "display_name": "Python 3.8.0 64-bit",
   "language": "python",
   "name": "python3"
  },
  "language_info": {
   "codemirror_mode": {
    "name": "ipython",
    "version": 3
   },
   "file_extension": ".py",
   "mimetype": "text/x-python",
   "name": "python",
   "nbconvert_exporter": "python",
   "pygments_lexer": "ipython3",
   "version": "3.8.0"
  },
  "orig_nbformat": 4
 },
 "nbformat": 4,
 "nbformat_minor": 2
}
